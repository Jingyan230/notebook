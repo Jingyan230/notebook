{
 "cells": [
  {
   "cell_type": "markdown",
   "metadata": {},
   "source": [
    "# [Essence of Linear Algebra](https://www.youtube.com/playlist?list=PLZHQObOWTQDPD3MizzM2xVFitgF8hE_ab)\n",
    "\n"
   ]
  },
  {
   "cell_type": "markdown",
   "metadata": {},
   "source": [
    "\n",
    "> Linear transformations are a way to move around space, such that the grid lines remain parallel and evenly spaced, and such that the origin remains fixed.\n",
    "> These transformations can be described using only a handful of numbers. The coordinates of where each basis vector lands.\n",
    "\n",
    "> Matrices give us a language to describe these transformations, where the columns represent those coordinates and matrix-vector multiplication is just a way to compute what that transformation does to a given vector.\n",
    "> Every time you see a matrix, you can interpret it as a certain transformation of space.\n",
    "\n"
   ]
  },
  {
   "cell_type": "markdown",
   "metadata": {},
   "source": [
    "### Chapter 12 _Orthonormal Transformations\n",
    "\n",
    "> Transformations which do preserve dot products are special enough to have their own name: orthonormal transformations. \n",
    "> Orthonormal transformations are which leave all the basis vectors perpendicular to each other and sill with unit length, often think of these as rotation matrices. \n",
    "> They correspond to rigid motion, with no stretching, squishing or morphing.\n",
    "\n",
    "> Solving a linear system with an orthonormal matrix is very easy: \n",
    "> Since dot products are preserved, taking the dot product between the output vector and all the columns of your matrix will be the same as taking the dot products between the input vector and all of the basis vectors, which is the same as finding the coordinates of the input vector.\n",
    "> So, in that very special case, x would be the dot product of the first column with the out put vector, and y would be the dot product of the second column with the output vector. "
   ]
  },
  {
   "cell_type": "code",
   "execution_count": null,
   "metadata": {},
   "outputs": [],
   "source": []
  }
 ],
 "metadata": {
  "kernelspec": {
   "display_name": "Python 3",
   "language": "python",
   "name": "python3"
  },
  "language_info": {
   "codemirror_mode": {
    "name": "ipython",
    "version": 3
   },
   "file_extension": ".py",
   "mimetype": "text/x-python",
   "name": "python",
   "nbconvert_exporter": "python",
   "pygments_lexer": "ipython3",
   "version": "3.7.9"
  }
 },
 "nbformat": 4,
 "nbformat_minor": 4
}
