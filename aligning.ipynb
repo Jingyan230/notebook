{
 "cells": [
  {
   "cell_type": "markdown",
   "metadata": {},
   "source": [
    "# Aligning\n",
    "`Aligning` is a module for you to align two separated datasets together, for better comparison of the data. The main idea is to get a matrix $Q$ from the input data sets $X$ and $Y$, Then use $Q$ for aligning $X$ to where $Y$ is. The differences among classes in `Aligning` is the principle of how we get the orthogonal matrix $Q$ from inputs. For more information about the algorithm of these classes, see [reference](https://graspy.neurodata.io/reference/align.html)."
   ]
  },
  {
   "cell_type": "markdown",
   "metadata": {},
   "source": [
    "This demo shows simple examples of how to use SignFlips, SeedlessProcrustes, and OrthogonalProcrustes in `Aligning`, and the different performance between these classes. "
   ]
  },
  {
   "cell_type": "code",
   "execution_count": 1,
   "metadata": {},
   "outputs": [],
   "source": [
    "import graspologic\n",
    "import numpy as np\n",
    "import seaborn as sns\n",
    "import matplotlib.pyplot as plt\n",
    "from scipy.stats import special_ortho_group\n",
    "\n",
    "%matplotlib inline"
   ]
  },
  {
   "cell_type": "markdown",
   "metadata": {},
   "source": [
    "## Simple rotation example for each classes\n",
    "\n",
    "This part mainly explains how to use SignFlips, SeedlessProcrustes, and OrthogonalProcrustesFirst, with a simple rotation input example. First, let's build two simple apart datasets, where $Y$ is a randomly rotated group from $X$."
   ]
  },
  {
   "cell_type": "code",
   "execution_count": 2,
   "metadata": {
    "scrolled": true
   },
   "outputs": [],
   "source": [
    "np.random.seed(1)\n",
    "X = np.random.rand(10,2)\n",
    "Z = special_ortho_group.rvs(2)\n",
    "Y = X@Z"
   ]
  },
  {
   "cell_type": "markdown",
   "metadata": {},
   "source": [
    "Then use different classes in Aligning for aligning $X$ back with $Y$. Let's see the different performances between classes."
   ]
  },
  {
   "cell_type": "markdown",
   "metadata": {},
   "source": [
    "### SignFlips\n",
    "\n",
    "Substantially, SignFlips is a function for fliping one dataset $X$, to another dimension. A diagonal orthogonal matrix $Q$ will be generated based on $X$ and $Y$. By $X@Q$, All the enteries in $X$ are fliped along axises, to get it to the quadrant where $Y$ is. "
   ]
  },
  {
   "cell_type": "markdown",
   "metadata": {},
   "source": [
    "Here we introduce SignFlips to get the fliped dataset, X_prime_SignFlips."
   ]
  },
  {
   "cell_type": "code",
   "execution_count": 3,
   "metadata": {},
   "outputs": [],
   "source": [
    "from graspologic.align import SignFlips\n",
    "X_prime_SignFlips = SignFlips().fit_transform(X, Y)"
   ]
  },
  {
   "cell_type": "markdown",
   "metadata": {},
   "source": [
    "Name the fliped dataset to be X@Q_SignFlips. Then plot $X$, $Y$, X@Q_SignFlips"
   ]
  },
  {
   "cell_type": "code",
   "execution_count": 4,
   "metadata": {},
   "outputs": [
    {
     "data": {
      "image/png": "[encoded data removed]",
      "text/plain": [
       "<Figure size 432x432 with 1 Axes>"
      ]
     },
     "metadata": {},
     "output_type": "display_data"
    }
   ],
   "source": [
    "plt.subplots(1, 1, figsize=(6, 6))\n",
    "plt.title(\"SignFlips, Simple rotation example\")\n",
    "sns.color_palette(\"deep\")\n",
    "plt.scatter(X[:,0], X[:,1], label=\"X\", marker='x')\n",
    "plt.scatter(Y[:,0], Y[:,1], label=\"Y\", s=100, alpha=0.5)\n",
    "plt.scatter(X_prime_SignFlips[:,0], X_prime_SignFlips[:,1], label=\"X@Q_SignFlips\", \n",
    "            marker='$F$')\n",
    "plt.tick_params(labelleft=False, labelbottom=False, bottom=False, left=False)\n",
    "plt.xlim(-1.50, 1.50)\n",
    "plt.ylim(-1.50, 1.50)\n",
    "plt.legend();"
   ]
  },
  {
   "cell_type": "markdown",
   "metadata": {},
   "source": [
    "Here we can see, SignFlips simply filped $X$ along x-axis and y-axis to get X@Q_SignFlips to the third quadrant, the quadrant where $Y$ is. There is no further algning for this class. This class can also be used to bring the dataset to the first orthant, if you provide the identity matrix as the second dataset."
   ]
  },
  {
   "cell_type": "markdown",
   "metadata": {},
   "source": [
    "### OrthogonalProcrustes\n",
    "\n",
    "In OrthogonalProcrustes, an orthogonal matrix $Q$ that most closely maps $X$ to $Y$ is generated based on $X$ and $Y$. This class is based on the solution of classical orthogonal Procrustes problem, which means it requires the two datasets $X$ and $Y$ to have the equal shape ($n$, $d$). The equal shape between datasets indicates that $X$ and $Y$ have the same number of entries and some correspondence between the entries, a.k.a, the vertex $i$ in graph $X$ has the same latent position as the vertex $i$ in graph $Y$ in graph embedings. This class has similar function as *[scipy.linal.orthogonal_procrustes()](https://docs.scipy.org/doc/scipy/reference/generated/scipy.linalg.orthogonal_procrustes.html)*."
   ]
  },
  {
   "cell_type": "markdown",
   "metadata": {},
   "source": [
    "Here we use OrthogonalProcrustes to get the transformed dataset, X_prime_Orthogonal."
   ]
  },
  {
   "cell_type": "code",
   "execution_count": 5,
   "metadata": {},
   "outputs": [],
   "source": [
    "from graspologic.align import OrthogonalProcrustes\n",
    "X_prime_Orthogonal = OrthogonalProcrustes().fit_transform(X, Y)"
   ]
  },
  {
   "cell_type": "markdown",
   "metadata": {},
   "source": [
    "Name the rotated dataset to be X@Q_OrthogonalProcrustes. Plot $X$, $Y$, X@Q_OrthogonalProcrustes"
   ]
  },
  {
   "cell_type": "code",
   "execution_count": 6,
   "metadata": {
    "scrolled": true
   },
   "outputs": [
    {
     "data": {
      "image/png": "[encoded data removed]",
      "text/plain": [
       "<Figure size 432x432 with 1 Axes>"
      ]
     },
     "metadata": {},
     "output_type": "display_data"
    }
   ],
   "source": [
    "plt.subplots(1, 1, figsize=(6, 6))\n",
    "plt.title(\"OrthogonalProcrustes, Simple rotation example\")\n",
    "sns.color_palette(\"deep\")\n",
    "plt.scatter(X[:,0], X[:,1], label=\"X\", marker='x')\n",
    "plt.scatter(Y[:,0], Y[:,1], label=\"Y\", s=100, alpha=0.5)\n",
    "plt.scatter(X_prime_Orthogonal[:,0], X_prime_Orthogonal[:,1], \n",
    "            label=\"X@Q_OrthogonalProcrustes\", marker='$O$')\n",
    "plt.tick_params(labelleft=False, labelbottom=False, bottom=False, left=False)\n",
    "plt.xlim(-1.50, 1.50)\n",
    "plt.ylim(-1.50, 1.50)\n",
    "plt.legend();"
   ]
  },
  {
   "cell_type": "markdown",
   "metadata": {},
   "source": [
    "### SeedlessProcrustes\n",
    "\n",
    "SeedlessProcrustes try to get the matrix $Q$ via an iterative algorithm that alternates optimal transport and regular procrustes.\n",
    "It is not restricted by the shape diferences between datasets, i.e., it can be applied to two datasets with/without the same number of entries regardless whether there is correspondence between entries or not. "
   ]
  },
  {
   "cell_type": "markdown",
   "metadata": {},
   "source": [
    "Here we use it for aligning the two same datasets $X$, $Y$ showed above. Introduce SeedlessProcrustes to get the transformed dataset, X_prime_Seedless."
   ]
  },
  {
   "cell_type": "code",
   "execution_count": 7,
   "metadata": {},
   "outputs": [],
   "source": [
    "from graspologic.align import SeedlessProcrustes\n",
    "X_prime_Seedless = SeedlessProcrustes().fit_transform(X, Y)"
   ]
  },
  {
   "cell_type": "markdown",
   "metadata": {},
   "source": [
    "Name the rotated dataset to be X@Q_SeedlessProcrustes. Plot $X$, $Y$, X@Q_SeedlessProcrustes"
   ]
  },
  {
   "cell_type": "code",
   "execution_count": 8,
   "metadata": {},
   "outputs": [
    {
     "data": {
      "image/png": "[encoded data removed]",
      "text/plain": [
       "<Figure size 432x432 with 1 Axes>"
      ]
     },
     "metadata": {},
     "output_type": "display_data"
    }
   ],
   "source": [
    "plt.subplots(1, 1, figsize=(6, 6))\n",
    "plt.title(\"SeedlessProcrustes, Simple rotation example\")\n",
    "sns.color_palette(\"deep\")\n",
    "plt.scatter(X[:,0], X[:,1], label=\"X\", marker='x')\n",
    "plt.scatter(Y[:,0], Y[:,1], label=\"Y\", s=100, alpha=0.5)\n",
    "plt.scatter(X_prime_Seedless[:,0], X_prime_Seedless[:,1], \n",
    "            label=\"X@Q_SeedlessProcrustes\", marker='$S$')\n",
    "plt.tick_params(labelleft=False, labelbottom=False, bottom=False, left=False)\n",
    "plt.xlim(-1.50, 1.50)\n",
    "plt.ylim(-1.50, 1.50)\n",
    "plt.legend();"
   ]
  },
  {
   "cell_type": "markdown",
   "metadata": {},
   "source": [
    "### Comparison between SignFlips, OrthogonalProcrustes, SeedlessProcrustes"
   ]
  },
  {
   "cell_type": "markdown",
   "metadata": {},
   "source": [
    "Plot the outcomes together."
   ]
  },
  {
   "cell_type": "code",
   "execution_count": 9,
   "metadata": {},
   "outputs": [
    {
     "data": {
      "image/png": "[encoded data removed]",
      "text/plain": [
       "<Figure size 432x432 with 1 Axes>"
      ]
     },
     "metadata": {},
     "output_type": "display_data"
    }
   ],
   "source": [
    "plt.subplots(1, 1, figsize=(6, 6))\n",
    "plt.title(\"Aligning, Simple rotation example\")\n",
    "sns.color_palette(\"deep\")\n",
    "plt.scatter(X[:,0], X[:,1], label=\"X\", marker='x')\n",
    "plt.scatter(Y[:,0], Y[:,1], label=\"Y\", s=100, alpha=0.5)\n",
    "plt.scatter(X_prime_SignFlips[:,0], X_prime_SignFlips[:,1], \n",
    "            label=\"X@Q_SignFlips\", marker='$F$')\n",
    "plt.scatter(X_prime_Orthogonal[:,0], X_prime_Orthogonal[:,1], \n",
    "            label=\"X@Q_OrthogonalProcrustes\", marker='$o$')\n",
    "plt.scatter(X_prime_Seedless[:,0], X_prime_Seedless[:,1], \n",
    "            label=\"X@Q_SeedlessProcrustes\", marker='$S$')\n",
    "plt.tick_params(labelleft=False, labelbottom=False, bottom=False, left=False)\n",
    "plt.xlim(-1.50, 1.50)\n",
    "plt.ylim(-1.50, 1.50)\n",
    "plt.legend();"
   ]
  },
  {
   "cell_type": "markdown",
   "metadata": {},
   "source": [
    "Introduce *[np.linlg.norm()](https://numpy.org/doc/stable/reference/generated/numpy.linalg.norm.html)* to calculate the Frobenius norm of (X_prime - Y), for quantificaion of the aligning ability in this example."
   ]
  },
  {
   "cell_type": "code",
   "execution_count": 10,
   "metadata": {},
   "outputs": [
    {
     "name": "stdout",
     "output_type": "stream",
     "text": [
      "norm_SignFlips= 1.4779981074320632\n",
      "norm_Orthogonal= 3.437379846455101e-16\n",
      "norm_Seedless= 0.02152739003460826\n"
     ]
    }
   ],
   "source": [
    "norm_SignFlips = np.linalg.norm(X_prime_SignFlips - Y)\n",
    "norm_Orthogonal = np.linalg.norm(X_prime_Orthogonal - Y)\n",
    "norm_Seedless = np.linalg.norm(X_prime_Seedless - Y)\n",
    "print('norm_SignFlips=', norm_SignFlips)\n",
    "print('norm_Orthogonal=', norm_Orthogonal)\n",
    "print('norm_Seedless=', norm_Seedless)"
   ]
  },
  {
   "cell_type": "markdown",
   "metadata": {},
   "source": [
    "SignFlips only do the simple flips of datasets along axises. Both OrthogonalProcrustes and SeedlessProcrustes align $X$ very well with the exact palce and distribution of $Y$. "
   ]
  },
  {
   "cell_type": "markdown",
   "metadata": {},
   "source": [
    "## Special example for SignFlips and SeedlessProcrustes\n",
    "\n",
    "This part includes two special example for SignFlips and SeedlessProcrustes respectively, for better presenting their functions."
   ]
  },
  {
   "cell_type": "markdown",
   "metadata": {},
   "source": [
    "### Simple fliping example for SignFlips "
   ]
  },
  {
   "cell_type": "markdown",
   "metadata": {},
   "source": [
    "For better understanding of how exactly SignFlips works, here is an example of using SignFlips in simple-fliping situation. In this example, $Y$ is a set rotated by 180 degree from $X$. "
   ]
  },
  {
   "cell_type": "code",
   "execution_count": 11,
   "metadata": {},
   "outputs": [],
   "source": [
    "np.random.seed(1)\n",
    "X = np.random.rand(10,2)\n",
    "Y = -X"
   ]
  },
  {
   "cell_type": "markdown",
   "metadata": {},
   "source": [
    "Use SignFlips to get the fliped dataset, X_prime_SignFlips."
   ]
  },
  {
   "cell_type": "code",
   "execution_count": 12,
   "metadata": {},
   "outputs": [],
   "source": [
    "from graspologic.align import SignFlips\n",
    "X_prime_SignFlips = SignFlips().fit_transform(X, Y)"
   ]
  },
  {
   "cell_type": "markdown",
   "metadata": {},
   "source": [
    "Plot out."
   ]
  },
  {
   "cell_type": "code",
   "execution_count": 13,
   "metadata": {},
   "outputs": [
    {
     "data": {
      "image/png": "[encoded data removed]",
      "text/plain": [
       "<Figure size 432x432 with 1 Axes>"
      ]
     },
     "metadata": {},
     "output_type": "display_data"
    }
   ],
   "source": [
    "plt.subplots(1, 1, figsize=(6, 6))\n",
    "plt.title(\"SignFlips, Simple fliping example\")\n",
    "sns.color_palette(\"deep\")\n",
    "plt.scatter(X[:,0], X[:,1], label=\"X\", marker='x')\n",
    "plt.scatter(Y[:,0], Y[:,1], label=\"Y\", s=100, alpha=0.5)\n",
    "plt.scatter(X_prime_SignFlips[:,0], X_prime_SignFlips[:,1], \n",
    "            label=\"X@Q_SignFlips\", marker='$F$')\n",
    "plt.tick_params(labelleft=False, labelbottom=False, bottom=False, left=False)\n",
    "plt.xlim(-1.50, 1.50)\n",
    "plt.ylim(-1.50, 1.50)\n",
    "plt.legend();"
   ]
  },
  {
   "cell_type": "markdown",
   "metadata": {},
   "source": [
    "Introduce np.linlg.norm to calculate the Frobenius norm of (X_prime - Y), for quantificaion of the aligning ability in this example."
   ]
  },
  {
   "cell_type": "code",
   "execution_count": 14,
   "metadata": {},
   "outputs": [
    {
     "name": "stdout",
     "output_type": "stream",
     "text": [
      "norm_SignFlips= 0.0\n"
     ]
    }
   ],
   "source": [
    "norm_SignFlips = np.linalg.norm(X_prime_SignFlips - Y)\n",
    "print('norm_SignFlips=', norm_SignFlips)"
   ]
  },
  {
   "cell_type": "markdown",
   "metadata": {},
   "source": [
    "Since SignFlips only do the simple flips of datasets along axises, and that's how $Y$ comes from in this example, norm_SignFlips is 0, i.e. $Y$ is perfectly overlaped by X@Q_SignFlips. "
   ]
  },
  {
   "cell_type": "markdown",
   "metadata": {},
   "source": [
    "### Unmatched input example for Seedlessprocrustes"
   ]
  },
  {
   "cell_type": "markdown",
   "metadata": {},
   "source": [
    "As mentioned above, SeedlessProcrustes can be applied to two datasets with different number of entries. Here an example for using it on two unmatched input datasets."
   ]
  },
  {
   "cell_type": "markdown",
   "metadata": {},
   "source": [
    "First, create two sample from multivariate normal distribution (MVN)."
   ]
  },
  {
   "cell_type": "code",
   "execution_count": 15,
   "metadata": {},
   "outputs": [],
   "source": [
    "np.random.seed(1)\n",
    "I = np.identity(2)\n",
    "Z = special_ortho_group.rvs(2)\n",
    "X = np.random.multivariate_normal([0.5, 0.5], 0.05 * I, 20)\n",
    "Y = np.random.multivariate_normal([0.5, 0.5], 0.05 * I, 10) @ Z"
   ]
  },
  {
   "cell_type": "markdown",
   "metadata": {},
   "source": [
    "Introduce SeedlessProcrustes to get the transformed dataset, X_prime_Seedless."
   ]
  },
  {
   "cell_type": "code",
   "execution_count": 16,
   "metadata": {},
   "outputs": [],
   "source": [
    "from graspologic.align import SeedlessProcrustes\n",
    "X_prime_Seedless = SeedlessProcrustes().fit_transform(X, Y)"
   ]
  },
  {
   "cell_type": "markdown",
   "metadata": {},
   "source": [
    "Plot it out."
   ]
  },
  {
   "cell_type": "code",
   "execution_count": 17,
   "metadata": {},
   "outputs": [
    {
     "data": {
      "image/png": "[encoded data removed]",
      "text/plain": [
       "<Figure size 432x432 with 1 Axes>"
      ]
     },
     "metadata": {},
     "output_type": "display_data"
    }
   ],
   "source": [
    "plt.subplots(1, 1, figsize=(6, 6))\n",
    "plt.title(\"SeedlessProcrustes, Unmatched input example\")\n",
    "sns.color_palette(\"deep\")\n",
    "plt.scatter(X[:,0], X[:,1], label=\"X\", marker='x')\n",
    "plt.scatter(Y[:,0], Y[:,1], label=\"Y\", s=100, alpha=0.5)\n",
    "plt.scatter(X_prime_Seedless[:,0], X_prime_Seedless[:,1], \n",
    "            label=\"X@Q_SeedlessProcrustes\", marker='x')\n",
    "plt.tick_params(labelleft=False, labelbottom=False, bottom=False, left=False)\n",
    "plt.xlim(-1.50, 1.50)\n",
    "plt.ylim(-1.50, 1.50)\n",
    "plt.legend();"
   ]
  }
 ],
 "metadata": {
  "kernelspec": {
   "display_name": "Python 3",
   "language": "python",
   "name": "python3"
  },
  "language_info": {
   "codemirror_mode": {
    "name": "ipython",
    "version": 3
   },
   "file_extension": ".py",
   "mimetype": "text/x-python",
   "name": "python",
   "nbconvert_exporter": "python",
   "pygments_lexer": "ipython3",
   "version": "3.7.9"
  }
 },
 "nbformat": 4,
 "nbformat_minor": 4
}
