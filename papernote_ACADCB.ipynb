{
 "cells": [
  {
   "cell_type": "markdown",
   "metadata": {},
   "source": [
    "# A Connectome of the Adult Drosophila Central Brain\n",
    "[Link to the paper](https://www.biorxiv.org/content/10.1101/2020.01.21.911859v1)"
   ]
  },
  {
   "cell_type": "markdown",
   "metadata": {},
   "source": [
    "- Present the complete circuitry of a large fraction of the brain of the fruit fly _Drosophila melanogaster_.\n",
    "- Define cell types based on connectivity in addition to morphology.\n",
    "- new methods to simplify access to a large and evolving data set.\n"
   ]
  },
  {
   "cell_type": "markdown",
   "metadata": {},
   "source": [
    "The hemibrain: a dense reconstruction of a portion of the central brain (of the fruit fly, _Drosophila melanogaster_)"
   ]
  },
  {
   "cell_type": "markdown",
   "metadata": {},
   "source": [
    "## Related Links\n",
    "neuPrint is a set of connectome analysis tools. \n",
    "- [neoPrintExplorer](https://neuprint.janelia.org/) provides tools to query and visualize connectomic data stored in [neoPrint](https://github.com/connectome-neuprint/neuPrint), which uses a neo4j graph database.\n",
    "- The tutorial of [neuPrint](https://www.biorxiv.org/content/10.1101/2020.01.16.909465v1)\n",
    "- [neuprint-python](https://github.com/connectome-neuprint/neuprint-python)"
   ]
  },
  {
   "cell_type": "markdown",
   "metadata": {},
   "source": []
  },
  {
   "cell_type": "markdown",
   "metadata": {},
   "source": []
  }
 ],
 "metadata": {
  "kernelspec": {
   "display_name": "Python 3",
   "language": "python",
   "name": "python3"
  },
  "language_info": {
   "codemirror_mode": {
    "name": "ipython",
    "version": 3
   },
   "file_extension": ".py",
   "mimetype": "text/x-python",
   "name": "python",
   "nbconvert_exporter": "python",
   "pygments_lexer": "ipython3",
   "version": "3.7.9"
  }
 },
 "nbformat": 4,
 "nbformat_minor": 4
}
